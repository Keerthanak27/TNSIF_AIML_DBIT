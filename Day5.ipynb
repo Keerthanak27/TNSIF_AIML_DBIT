{
 "cells": [
  {
   "cell_type": "code",
   "execution_count": 26,
   "id": "c8bcaa1b-a623-48d5-8c0e-b370a7e5bf5c",
   "metadata": {},
   "outputs": [
    {
     "name": "stdout",
     "output_type": "stream",
     "text": [
      "(3,)\n"
     ]
    }
   ],
   "source": [
    "tupe=(3,)\n",
    "print(tupe)"
   ]
  },
  {
   "cell_type": "code",
   "execution_count": 27,
   "id": "559ab860-b7f3-4c33-8f33-6970bd0a1af3",
   "metadata": {},
   "outputs": [
    {
     "name": "stdin",
     "output_type": "stream",
     "text": [
      "enter number of employees 4\n",
      "enter salary for employees1: 100\n",
      "enter salary for employees2: 1000\n",
      "enter salary for employees3: 10000\n",
      "enter salary for employees4: 100000\n"
     ]
    },
    {
     "name": "stdout",
     "output_type": "stream",
     "text": [
      "minimum salary: 100.0\n",
      "maximum salary: 100000.0\n"
     ]
    }
   ],
   "source": [
    "n=int(input(\"enter number of employees\"))\n",
    "salaries=[]\n",
    "for i in range(n):\n",
    "    salary=float(input(f\"enter salary for employees{i+1}:\"))\n",
    "    salaries.append(salary)\n",
    "\n",
    "min_salary=min(salaries)\n",
    "\n",
    "max_salary=max(salaries)\n",
    "\n",
    "print(\"minimum salary:\",min_salary)\n",
    "\n",
    "print(\"maximum salary:\",max_salary)"
   ]
  },
  {
   "cell_type": "code",
   "execution_count": 28,
   "id": "745a326e-29d0-40fc-a241-39e42e2aa740",
   "metadata": {},
   "outputs": [
    {
     "name": "stdout",
     "output_type": "stream",
     "text": [
      "('PYTHON',)\n",
      "1\n",
      "4\n",
      "(10, 20, 30, 10, 20, 30)\n"
     ]
    }
   ],
   "source": [
    "t=tuple()\n",
    "t=t+('PYTHON',)\n",
    "print(t)\n",
    "print(len(t))\n",
    "t1=(10,20,30)\n",
    "t2=t1+t\n",
    "print(len(t2))\n",
    "t3=t1*2\n",
    "print(t3)"
   ]
  }
 ],
 "metadata": {
  "kernelspec": {
   "display_name": "Python [conda env:base] *",
   "language": "python",
   "name": "conda-base-py"
  },
  "language_info": {
   "codemirror_mode": {
    "name": "ipython",
    "version": 3
   },
   "file_extension": ".py",
   "mimetype": "text/x-python",
   "name": "python",
   "nbconvert_exporter": "python",
   "pygments_lexer": "ipython3",
   "version": "3.12.7"
  }
 },
 "nbformat": 4,
 "nbformat_minor": 5
}
