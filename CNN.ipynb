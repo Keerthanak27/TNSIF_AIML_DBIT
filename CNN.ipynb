{
 "cells": [
  {
   "cell_type": "code",
   "execution_count": 7,
   "id": "6f09f1e9-40f1-4338-8651-b506b54d9860",
   "metadata": {},
   "outputs": [
    {
     "name": "stdout",
     "output_type": "stream",
     "text": [
      "Training set shape: (60000, 28, 28) (60000,)\n",
      "Test set shape: (10000, 28, 28) (10000,)\n"
     ]
    }
   ],
   "source": [
    "# Step 1: Dataset\n",
    "import tensorflow as tf\n",
    "from tensorflow.keras import Sequential\n",
    "from tensorflow.keras.layers import Dense, Flatten, Input\n",
    "\n",
    "# Load MNIST dataset\n",
    "(X_train, y_train), (X_test, y_test) = tf.keras.datasets.mnist.load_data()\n",
    "\n",
    "print(\"Training set shape:\", X_train.shape, y_train.shape)\n",
    "print(\"Test set shape:\", X_test.shape, y_test.shape)\n",
    "\n",
    "# Normalize pixel values (0-255 → 0-1)\n",
    "X_train = X_train / 255.0\n",
    "X_test = X_test / 255.0"
   ]
  },
  {
   "cell_type": "code",
   "execution_count": 8,
   "id": "f61a094d-2e25-4acd-a295-3df28be5be2a",
   "metadata": {},
   "outputs": [
    {
     "data": {
      "text/html": [
       "<pre style=\"white-space:pre;overflow-x:auto;line-height:normal;font-family:Menlo,'DejaVu Sans Mono',consolas,'Courier New',monospace\"><span style=\"font-weight: bold\">Model: \"sequential\"</span>\n",
       "</pre>\n"
      ],
      "text/plain": [
       "\u001b[1mModel: \"sequential\"\u001b[0m\n"
      ]
     },
     "metadata": {},
     "output_type": "display_data"
    },
    {
     "data": {
      "text/html": [
       "<pre style=\"white-space:pre;overflow-x:auto;line-height:normal;font-family:Menlo,'DejaVu Sans Mono',consolas,'Courier New',monospace\">┏━━━━━━━━━━━━━━━━━━━━━━━━━━━━━━━━━━━━━━┳━━━━━━━━━━━━━━━━━━━━━━━━━━━━━┳━━━━━━━━━━━━━━━━━┓\n",
       "┃<span style=\"font-weight: bold\"> Layer (type)                         </span>┃<span style=\"font-weight: bold\"> Output Shape                </span>┃<span style=\"font-weight: bold\">         Param # </span>┃\n",
       "┡━━━━━━━━━━━━━━━━━━━━━━━━━━━━━━━━━━━━━━╇━━━━━━━━━━━━━━━━━━━━━━━━━━━━━╇━━━━━━━━━━━━━━━━━┩\n",
       "│ flatten (<span style=\"color: #0087ff; text-decoration-color: #0087ff\">Flatten</span>)                    │ (<span style=\"color: #00d7ff; text-decoration-color: #00d7ff\">None</span>, <span style=\"color: #00af00; text-decoration-color: #00af00\">784</span>)                 │               <span style=\"color: #00af00; text-decoration-color: #00af00\">0</span> │\n",
       "├──────────────────────────────────────┼─────────────────────────────┼─────────────────┤\n",
       "│ dense (<span style=\"color: #0087ff; text-decoration-color: #0087ff\">Dense</span>)                        │ (<span style=\"color: #00d7ff; text-decoration-color: #00d7ff\">None</span>, <span style=\"color: #00af00; text-decoration-color: #00af00\">128</span>)                 │         <span style=\"color: #00af00; text-decoration-color: #00af00\">100,480</span> │\n",
       "├──────────────────────────────────────┼─────────────────────────────┼─────────────────┤\n",
       "│ dense_1 (<span style=\"color: #0087ff; text-decoration-color: #0087ff\">Dense</span>)                      │ (<span style=\"color: #00d7ff; text-decoration-color: #00d7ff\">None</span>, <span style=\"color: #00af00; text-decoration-color: #00af00\">64</span>)                  │           <span style=\"color: #00af00; text-decoration-color: #00af00\">8,256</span> │\n",
       "├──────────────────────────────────────┼─────────────────────────────┼─────────────────┤\n",
       "│ dense_2 (<span style=\"color: #0087ff; text-decoration-color: #0087ff\">Dense</span>)                      │ (<span style=\"color: #00d7ff; text-decoration-color: #00d7ff\">None</span>, <span style=\"color: #00af00; text-decoration-color: #00af00\">10</span>)                  │             <span style=\"color: #00af00; text-decoration-color: #00af00\">650</span> │\n",
       "└──────────────────────────────────────┴─────────────────────────────┴─────────────────┘\n",
       "</pre>\n"
      ],
      "text/plain": [
       "┏━━━━━━━━━━━━━━━━━━━━━━━━━━━━━━━━━━━━━━┳━━━━━━━━━━━━━━━━━━━━━━━━━━━━━┳━━━━━━━━━━━━━━━━━┓\n",
       "┃\u001b[1m \u001b[0m\u001b[1mLayer (type)                        \u001b[0m\u001b[1m \u001b[0m┃\u001b[1m \u001b[0m\u001b[1mOutput Shape               \u001b[0m\u001b[1m \u001b[0m┃\u001b[1m \u001b[0m\u001b[1m        Param #\u001b[0m\u001b[1m \u001b[0m┃\n",
       "┡━━━━━━━━━━━━━━━━━━━━━━━━━━━━━━━━━━━━━━╇━━━━━━━━━━━━━━━━━━━━━━━━━━━━━╇━━━━━━━━━━━━━━━━━┩\n",
       "│ flatten (\u001b[38;5;33mFlatten\u001b[0m)                    │ (\u001b[38;5;45mNone\u001b[0m, \u001b[38;5;34m784\u001b[0m)                 │               \u001b[38;5;34m0\u001b[0m │\n",
       "├──────────────────────────────────────┼─────────────────────────────┼─────────────────┤\n",
       "│ dense (\u001b[38;5;33mDense\u001b[0m)                        │ (\u001b[38;5;45mNone\u001b[0m, \u001b[38;5;34m128\u001b[0m)                 │         \u001b[38;5;34m100,480\u001b[0m │\n",
       "├──────────────────────────────────────┼─────────────────────────────┼─────────────────┤\n",
       "│ dense_1 (\u001b[38;5;33mDense\u001b[0m)                      │ (\u001b[38;5;45mNone\u001b[0m, \u001b[38;5;34m64\u001b[0m)                  │           \u001b[38;5;34m8,256\u001b[0m │\n",
       "├──────────────────────────────────────┼─────────────────────────────┼─────────────────┤\n",
       "│ dense_2 (\u001b[38;5;33mDense\u001b[0m)                      │ (\u001b[38;5;45mNone\u001b[0m, \u001b[38;5;34m10\u001b[0m)                  │             \u001b[38;5;34m650\u001b[0m │\n",
       "└──────────────────────────────────────┴─────────────────────────────┴─────────────────┘\n"
      ]
     },
     "metadata": {},
     "output_type": "display_data"
    },
    {
     "data": {
      "text/html": [
       "<pre style=\"white-space:pre;overflow-x:auto;line-height:normal;font-family:Menlo,'DejaVu Sans Mono',consolas,'Courier New',monospace\"><span style=\"font-weight: bold\"> Total params: </span><span style=\"color: #00af00; text-decoration-color: #00af00\">109,386</span> (427.29 KB)\n",
       "</pre>\n"
      ],
      "text/plain": [
       "\u001b[1m Total params: \u001b[0m\u001b[38;5;34m109,386\u001b[0m (427.29 KB)\n"
      ]
     },
     "metadata": {},
     "output_type": "display_data"
    },
    {
     "data": {
      "text/html": [
       "<pre style=\"white-space:pre;overflow-x:auto;line-height:normal;font-family:Menlo,'DejaVu Sans Mono',consolas,'Courier New',monospace\"><span style=\"font-weight: bold\"> Trainable params: </span><span style=\"color: #00af00; text-decoration-color: #00af00\">109,386</span> (427.29 KB)\n",
       "</pre>\n"
      ],
      "text/plain": [
       "\u001b[1m Trainable params: \u001b[0m\u001b[38;5;34m109,386\u001b[0m (427.29 KB)\n"
      ]
     },
     "metadata": {},
     "output_type": "display_data"
    },
    {
     "data": {
      "text/html": [
       "<pre style=\"white-space:pre;overflow-x:auto;line-height:normal;font-family:Menlo,'DejaVu Sans Mono',consolas,'Courier New',monospace\"><span style=\"font-weight: bold\"> Non-trainable params: </span><span style=\"color: #00af00; text-decoration-color: #00af00\">0</span> (0.00 B)\n",
       "</pre>\n"
      ],
      "text/plain": [
       "\u001b[1m Non-trainable params: \u001b[0m\u001b[38;5;34m0\u001b[0m (0.00 B)\n"
      ]
     },
     "metadata": {},
     "output_type": "display_data"
    }
   ],
   "source": [
    "# Step 2: Model\n",
    "model = Sequential([\n",
    "    Input(shape=(28, 28)),     # Use Input layer here\n",
    "    Flatten(),                  # Flatten no longer needs input_shape\n",
    "    Dense(128, activation='relu'),\n",
    "    Dense(64, activation='relu'),\n",
    "    Dense(10, activation='softmax')\n",
    "])\n",
    "\n",
    "model.summary()"
   ]
  },
  {
   "cell_type": "code",
   "execution_count": 9,
   "id": "21a614a4-8b20-4816-a5d9-7afb97203be9",
   "metadata": {},
   "outputs": [],
   "source": [
    "# Step 3: Compile\n",
    "model.compile(optimizer='adam',\n",
    "              loss='sparse_categorical_crossentropy',\n",
    "              metrics=['accuracy'])"
   ]
  },
  {
   "cell_type": "code",
   "execution_count": 10,
   "id": "1e027b17-1045-423c-938f-52954b8fb124",
   "metadata": {},
   "outputs": [
    {
     "name": "stdout",
     "output_type": "stream",
     "text": [
      "Epoch 1/4\n",
      "1875/1875 - 6s - 3ms/step - accuracy: 0.9296 - loss: 0.2404 - val_accuracy: 0.9641 - val_loss: 0.1204\n",
      "Epoch 2/4\n",
      "1875/1875 - 3s - 2ms/step - accuracy: 0.9701 - loss: 0.0992 - val_accuracy: 0.9684 - val_loss: 0.1021\n",
      "Epoch 3/4\n",
      "1875/1875 - 4s - 2ms/step - accuracy: 0.9773 - loss: 0.0713 - val_accuracy: 0.9729 - val_loss: 0.0835\n",
      "Epoch 4/4\n",
      "1875/1875 - 5s - 2ms/step - accuracy: 0.9831 - loss: 0.0535 - val_accuracy: 0.9709 - val_loss: 0.0996\n",
      "Epoch 1/10\n",
      "1875/1875 - 5s - 3ms/step - accuracy: 0.9862 - loss: 0.0423 - val_accuracy: 0.9739 - val_loss: 0.0856\n",
      "Epoch 2/10\n",
      "1875/1875 - 5s - 3ms/step - accuracy: 0.9890 - loss: 0.0348 - val_accuracy: 0.9774 - val_loss: 0.0762\n",
      "Epoch 3/10\n",
      "1875/1875 - 5s - 2ms/step - accuracy: 0.9896 - loss: 0.0312 - val_accuracy: 0.9737 - val_loss: 0.0945\n",
      "Epoch 4/10\n",
      "1875/1875 - 5s - 2ms/step - accuracy: 0.9920 - loss: 0.0239 - val_accuracy: 0.9756 - val_loss: 0.0893\n",
      "Epoch 5/10\n",
      "1875/1875 - 5s - 2ms/step - accuracy: 0.9923 - loss: 0.0231 - val_accuracy: 0.9789 - val_loss: 0.0772\n",
      "Epoch 6/10\n",
      "1875/1875 - 5s - 2ms/step - accuracy: 0.9941 - loss: 0.0170 - val_accuracy: 0.9791 - val_loss: 0.0835\n",
      "Epoch 7/10\n",
      "1875/1875 - 5s - 3ms/step - accuracy: 0.9937 - loss: 0.0173 - val_accuracy: 0.9752 - val_loss: 0.1002\n",
      "Epoch 8/10\n",
      "1875/1875 - 5s - 2ms/step - accuracy: 0.9948 - loss: 0.0157 - val_accuracy: 0.9785 - val_loss: 0.0991\n",
      "Epoch 9/10\n",
      "1875/1875 - 5s - 3ms/step - accuracy: 0.9952 - loss: 0.0147 - val_accuracy: 0.9804 - val_loss: 0.0906\n",
      "Epoch 10/10\n",
      "1875/1875 - 5s - 3ms/step - accuracy: 0.9952 - loss: 0.0145 - val_accuracy: 0.9780 - val_loss: 0.1027\n"
     ]
    }
   ],
   "source": [
    "# Step 4: Train\n",
    "history_4 = model.fit(X_train, y_train, epochs=4, validation_data=(X_test, y_test), verbose=2)\n",
    "history_10 = model.fit(X_train, y_train, epochs=10, validation_data=(X_test, y_test), verbose=2)"
   ]
  },
  {
   "cell_type": "code",
   "execution_count": 14,
   "id": "535ef817-3291-49e6-a7e8-c63476bbb3fd",
   "metadata": {},
   "outputs": [
    {
     "name": "stdout",
     "output_type": "stream",
     "text": [
      "313/313 - 1s - 2ms/step - accuracy: 0.9780 - loss: 0.1027\n",
      "Test accuracy: 0.9779999852180481\n"
     ]
    }
   ],
   "source": [
    "# Step 5: Evaluate\n",
    "test_loss, test_acc = model.evaluate(X_test, y_test, verbose=2)\n",
    "print(\"Test accuracy:\", test_acc)"
   ]
  },
  {
   "cell_type": "code",
   "execution_count": 15,
   "id": "b4941729-2afc-40d5-9c25-cd3f2ea4fbe2",
   "metadata": {},
   "outputs": [
    {
     "name": "stdout",
     "output_type": "stream",
     "text": [
      "\u001b[1m1/1\u001b[0m \u001b[32m━━━━━━━━━━━━━━━━━━━━\u001b[0m\u001b[37m\u001b[0m \u001b[1m0s\u001b[0m 98ms/step\n",
      "Predicted label (first image): 7\n",
      "Actual label: 7\n",
      "\u001b[1m1/1\u001b[0m \u001b[32m━━━━━━━━━━━━━━━━━━━━\u001b[0m\u001b[37m\u001b[0m \u001b[1m0s\u001b[0m 53ms/step\n",
      "Predicted label (fifth image): 4\n",
      "Actual label: 4\n"
     ]
    }
   ],
   "source": [
    "# Step 6: Predict\n",
    "import numpy as np\n",
    "import matplotlib.pyplot as plt\n",
    "\n",
    "# Predict first test image\n",
    "pred1 = model.predict(X_test[:1])\n",
    "print(\"Predicted label (first image):\", np.argmax(pred1))\n",
    "print(\"Actual label:\", y_test[0])\n",
    "\n",
    "# Predict 5th test image\n",
    "pred5 = model.predict(X_test[4:5])\n",
    "print(\"Predicted label (fifth image):\", np.argmax(pred5))\n",
    "print(\"Actual label:\", y_test[4])"
   ]
  },
  {
   "cell_type": "code",
   "execution_count": 21,
   "id": "98d147bd-ec67-405f-bc75-cd69523a1274",
   "metadata": {},
   "outputs": [
    {
     "name": "stdout",
     "output_type": "stream",
     "text": [
      "Epoch 1/5\n",
      "1875/1875 - 7s - 4ms/step - accuracy: 0.9265 - loss: 0.2467 - val_accuracy: 0.9626 - val_loss: 0.1227\n",
      "Epoch 2/5\n",
      "1875/1875 - 5s - 3ms/step - accuracy: 0.9678 - loss: 0.1038 - val_accuracy: 0.9711 - val_loss: 0.0937\n",
      "Epoch 3/5\n",
      "1875/1875 - 4s - 2ms/step - accuracy: 0.9773 - loss: 0.0733 - val_accuracy: 0.9720 - val_loss: 0.0913\n",
      "Epoch 4/5\n",
      "1875/1875 - 5s - 3ms/step - accuracy: 0.9816 - loss: 0.0578 - val_accuracy: 0.9766 - val_loss: 0.0829\n",
      "Epoch 5/5\n",
      "1875/1875 - 5s - 3ms/step - accuracy: 0.9857 - loss: 0.0463 - val_accuracy: 0.9681 - val_loss: 0.1051\n",
      "Epoch 1/5\n",
      "1875/1875 - 3s - 2ms/step - accuracy: 0.8208 - loss: 0.6724 - val_accuracy: 0.9115 - val_loss: 0.3158\n",
      "Epoch 2/5\n",
      "1875/1875 - 3s - 2ms/step - accuracy: 0.9170 - loss: 0.2928 - val_accuracy: 0.9258 - val_loss: 0.2490\n",
      "Epoch 3/5\n",
      "1875/1875 - 4s - 2ms/step - accuracy: 0.9312 - loss: 0.2402 - val_accuracy: 0.9389 - val_loss: 0.2155\n",
      "Epoch 4/5\n",
      "1875/1875 - 4s - 2ms/step - accuracy: 0.9410 - loss: 0.2067 - val_accuracy: 0.9445 - val_loss: 0.1921\n",
      "Epoch 5/5\n",
      "1875/1875 - 4s - 2ms/step - accuracy: 0.9485 - loss: 0.1818 - val_accuracy: 0.9495 - val_loss: 0.1723\n",
      "Epoch 1/5\n",
      "1875/1875 - 6s - 3ms/step - accuracy: 0.9242 - loss: 0.2602 - val_accuracy: 0.9572 - val_loss: 0.1404\n",
      "Epoch 2/5\n",
      "1875/1875 - 5s - 3ms/step - accuracy: 0.9642 - loss: 0.1171 - val_accuracy: 0.9685 - val_loss: 0.1067\n",
      "Epoch 3/5\n",
      "1875/1875 - 5s - 3ms/step - accuracy: 0.9762 - loss: 0.0780 - val_accuracy: 0.9718 - val_loss: 0.0871\n",
      "Epoch 4/5\n",
      "1875/1875 - 5s - 3ms/step - accuracy: 0.9823 - loss: 0.0563 - val_accuracy: 0.9733 - val_loss: 0.0865\n",
      "Epoch 5/5\n",
      "1875/1875 - 5s - 3ms/step - accuracy: 0.9865 - loss: 0.0422 - val_accuracy: 0.9752 - val_loss: 0.0784\n"
     ]
    }
   ],
   "source": [
    "# Step 7: Experiment\n",
    "# (a) Add another Dense(32, ReLU)\n",
    "model2 = Sequential([\n",
    "    Input(shape=(28, 28)),\n",
    "    Flatten(),\n",
    "    Dense(128, activation='relu'),\n",
    "    Dense(64, activation='relu'),\n",
    "    Dense(32, activation='relu'),\n",
    "    Dense(10, activation='softmax')\n",
    "])\n",
    "model2.compile(optimizer='adam', loss='sparse_categorical_crossentropy', metrics=['accuracy'])\n",
    "history_exp1 = model2.fit(X_train, y_train, epochs=5, validation_data=(X_test, y_test), verbose=2)\n",
    "\n",
    "# (b) Change optimizer to SGD\n",
    "model3 = Sequential([\n",
    "    Input(shape=(28, 28)),\n",
    "    Flatten(),\n",
    "    Dense(128, activation='relu'),\n",
    "    Dense(64, activation='relu'),\n",
    "    Dense(10, activation='softmax')\n",
    "])\n",
    "model3.compile(optimizer='sgd', loss='sparse_categorical_crossentropy', metrics=['accuracy'])\n",
    "history_exp2 = model3.fit(X_train, y_train, epochs=5, validation_data=(X_test, y_test), verbose=2)\n",
    "\n",
    "# (c) Replace ReLU with tanh\n",
    "model4 = Sequential([\n",
    "    Input(shape=(28, 28)),\n",
    "    Flatten(),\n",
    "    Dense(128, activation='tanh'),\n",
    "    Dense(64, activation='tanh'),\n",
    "    Dense(10, activation='softmax')\n",
    "])\n",
    "model4.compile(optimizer='adam', loss='sparse_categorical_crossentropy', metrics=['accuracy'])\n",
    "history_exp3 = model4.fit(X_train, y_train, epochs=5, validation_data=(X_test, y_test), verbose=2)\n"
   ]
  },
  {
   "cell_type": "code",
   "execution_count": null,
   "id": "18a31a8c-88b2-400e-896e-ead09836a587",
   "metadata": {},
   "outputs": [],
   "source": []
  }
 ],
 "metadata": {
  "kernelspec": {
   "display_name": "Python (tf_env)",
   "language": "python",
   "name": "tf_env"
  },
  "language_info": {
   "codemirror_mode": {
    "name": "ipython",
    "version": 3
   },
   "file_extension": ".py",
   "mimetype": "text/x-python",
   "name": "python",
   "nbconvert_exporter": "python",
   "pygments_lexer": "ipython3",
   "version": "3.13.2"
  }
 },
 "nbformat": 4,
 "nbformat_minor": 5
}
