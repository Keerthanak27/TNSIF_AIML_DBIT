{
 "cells": [
  {
   "cell_type": "code",
   "execution_count": null,
   "id": "2eb6d7c2-1e6d-4dd9-a924-f696e8b7e801",
   "metadata": {},
   "outputs": [
    {
     "name": "stdin",
     "output_type": "stream",
     "text": [
      "Enter a number 300\n"
     ]
    },
    {
     "name": "stdout",
     "output_type": "stream",
     "text": [
      "Sum is more than 300\n"
     ]
    }
   ],
   "source": [
    "sum=0\n",
    "while True:\n",
    "    n=int(input(\"Enter a number\"))\n",
    "    sum=sum+n\n",
    "    if sum<300:\n",
    "        print(sum)\n",
    "    else:\n",
    "        print(\"Sum is more than 300\")"
   ]
  },
  {
   "cell_type": "code",
   "execution_count": 3,
   "id": "128db15d-97c7-4c52-89ab-b1a642463328",
   "metadata": {},
   "outputs": [
    {
     "name": "stdin",
     "output_type": "stream",
     "text": [
      "Enter a name keerthana\n"
     ]
    },
    {
     "name": "stdout",
     "output_type": "stream",
     "text": [
      "k\n",
      "r\n",
      "t\n",
      "h\n",
      "n\n"
     ]
    }
   ],
   "source": [
    "n=input(\"Enter a name\")\n",
    "for i in n:\n",
    "    if i==\"a\" or i==\"e\" or i==\"i\" or i==\"o\" or i==\"u\":\n",
    "        continue\n",
    "    else:\n",
    "        print(i)"
   ]
  },
  {
   "cell_type": "code",
   "execution_count": 3,
   "id": "8ae0491e-961d-494f-998d-92252acaa98b",
   "metadata": {},
   "outputs": [
    {
     "name": "stdin",
     "output_type": "stream",
     "text": [
      "Enter a string BON\n"
     ]
    },
    {
     "name": "stdout",
     "output_type": "stream",
     "text": [
      "Voyage\n"
     ]
    }
   ],
   "source": [
    "while True:\n",
    "    text=input(\"Enter a string\")\n",
    "    if text==\"BON\":\n",
    "        print(\"Voyage\")\n",
    "        break\n",
    "    else:\n",
    "        print(text)"
   ]
  },
  {
   "cell_type": "code",
   "execution_count": 23,
   "id": "e251e721-cc92-4db5-b40b-77fc9ad54606",
   "metadata": {},
   "outputs": [
    {
     "name": "stdin",
     "output_type": "stream",
     "text": [
      "Enter your address:  23fg\n"
     ]
    },
    {
     "name": "stdout",
     "output_type": "stream",
     "text": [
      "23\n"
     ]
    }
   ],
   "source": [
    "address = input(\"Enter your address: \")\n",
    "num = \"\"\n",
    "for ch in address:\n",
    "    if ch >= '0' and ch <= '9': \n",
    "        num += ch\n",
    "print(num)"
   ]
  },
  {
   "cell_type": "code",
   "execution_count": 47,
   "id": "6360c5c2-cfb5-4bb2-88f2-1bf20dffd5ff",
   "metadata": {},
   "outputs": [
    {
     "name": "stdin",
     "output_type": "stream",
     "text": [
      "Enter 5 elements ['a','b','c','d','e']\n",
      "Enter user name abc\n"
     ]
    },
    {
     "name": "stdout",
     "output_type": "stream",
     "text": [
      "['a', 'b', 'abc', 'd', 'abc']\n"
     ]
    }
   ],
   "source": [
    "list=eval(input(\"Enter 5 elements\"))\n",
    "user=input(\"Enter user name\")\n",
    "list[2]=user\n",
    "list[4]=user\n",
    "print(list)"
   ]
  },
  {
   "cell_type": "code",
   "execution_count": 49,
   "id": "43b388bc-d0ee-4ef1-9095-33254ccf0f2a",
   "metadata": {},
   "outputs": [
    {
     "name": "stdin",
     "output_type": "stream",
     "text": [
      "Enter first element:  a\n",
      "Enter second element:  b\n",
      "Enter third element:  c\n",
      "Enter fourth element:  d\n",
      "Enter fifth element:  e\n",
      "Enter your name:  abc\n"
     ]
    },
    {
     "name": "stdout",
     "output_type": "stream",
     "text": [
      "['a', 'b', 'abc', 'd', 'abc']\n"
     ]
    }
   ],
   "source": [
    "a = input(\"Enter first element: \")\n",
    "b = input(\"Enter second element: \")\n",
    "c = input(\"Enter third element: \")\n",
    "d = input(\"Enter fourth element: \")\n",
    "e = input(\"Enter fifth element: \")\n",
    "lst = [a, b, c, d, e]\n",
    "name = input(\"Enter your name: \")\n",
    "lst[2] = name\n",
    "lst[4] = name\n",
    "print(lst)"
   ]
  },
  {
   "cell_type": "code",
   "execution_count": 9,
   "id": "0455a17f-67c2-4ad7-bcc0-0a9b5875963a",
   "metadata": {},
   "outputs": [
    {
     "name": "stdin",
     "output_type": "stream",
     "text": [
      "Enter a list: [1,2,3,4]\n",
      "Enter the index:  9\n",
      "Enter the element:  5\n"
     ]
    },
    {
     "name": "stdout",
     "output_type": "stream",
     "text": [
      "Invalid index. Element appended at the end.\n",
      "Updated list: [1, 2, 3, 4, '5']\n"
     ]
    }
   ],
   "source": [
    "list = eval(input(\"Enter a list:\"))\n",
    "index = int(input(\"Enter the index: \"))\n",
    "element = input(\"Enter the element: \")\n",
    "if 0 <= index <= len(list) - 1:\n",
    "    list.insert(index, element)\n",
    "    print(\"Element inserted at index\", index)\n",
    "else:\n",
    "    list.append(element)\n",
    "    print(\"Invalid index. Element appended at the end.\")\n",
    "print(\"Updated list:\", list)"
   ]
  },
  {
   "cell_type": "code",
   "execution_count": null,
   "id": "1284d7dc-7baf-41bc-95a1-bf84a28634c8",
   "metadata": {},
   "outputs": [],
   "source": []
  }
 ],
 "metadata": {
  "kernelspec": {
   "display_name": "Python [conda env:base] *",
   "language": "python",
   "name": "conda-base-py"
  },
  "language_info": {
   "codemirror_mode": {
    "name": "ipython",
    "version": 3
   },
   "file_extension": ".py",
   "mimetype": "text/x-python",
   "name": "python",
   "nbconvert_exporter": "python",
   "pygments_lexer": "ipython3",
   "version": "3.12.7"
  }
 },
 "nbformat": 4,
 "nbformat_minor": 5
}
