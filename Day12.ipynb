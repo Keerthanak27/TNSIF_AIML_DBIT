{
 "cells": [
  {
   "cell_type": "code",
   "execution_count": null,
   "id": "642f8ccc-4547-42ea-b9af-caf1f0b219e5",
   "metadata": {},
   "outputs": [],
   "source": [
    "#Dendogram"
   ]
  },
  {
   "cell_type": "code",
   "execution_count": 23,
   "id": "1708d91c-e9fb-487e-b5a6-f31a78cf81d4",
   "metadata": {},
   "outputs": [
    {
     "name": "stdout",
     "output_type": "stream",
     "text": [
      "   CustomerID  Annual Income  Spending Score\n",
      "0           1             15              39\n",
      "1           2             16              81\n",
      "2           3             17               6\n",
      "3           4             18              77\n",
      "4           5             19              40\n",
      "5           6             20              76\n",
      "6           7             21               6\n",
      "7           8             22              94\n",
      "8           9             23               3\n",
      "9          10             24              72\n"
     ]
    }
   ],
   "source": [
    "import pandas as pd\n",
    "import numpy as np\n",
    "df = pd.DataFrame({'CustomerID':[1,2,3,4,5,6,7,8,9,10],\n",
    "    'Annual Income':[15,16,17,18,19,20,21,22,23,24],\n",
    "    'Spending Score':[39,81,6,77,40,76,6,94,3,72]})\n",
    "print(df)"
   ]
  },
  {
   "cell_type": "code",
   "execution_count": 25,
   "id": "f48db954-a3e7-4101-8af5-2dcfe8a74c54",
   "metadata": {},
   "outputs": [
    {
     "data": {
      "image/png": "[encoded data removed]",
      "text/plain": [
       "<Figure size 640x480 with 1 Axes>"
      ]
     },
     "metadata": {},
     "output_type": "display_data"
    }
   ],
   "source": [
    "import scipy.cluster.hierarchy as sch\n",
    "import matplotlib.pyplot as plt\n",
    "dendrogram = sch.dendrogram(sch.linkage(df[['Annual Income','Spending Score']], method='ward'))\n",
    "plt.title('Dendrogram')\n",
    "plt.xlabel('Customers')\n",
    "plt.ylabel('Euclidean distances')\n",
    "plt.show()"
   ]
  },
  {
   "cell_type": "code",
   "execution_count": 27,
   "id": "ce5bb795-e87e-43fa-95fa-dc193d2d1cf9",
   "metadata": {},
   "outputs": [
    {
     "name": "stdout",
     "output_type": "stream",
     "text": [
      "   CustomerID  Annual Income  Spending Score  Cluster\n",
      "0           1             15              39        2\n",
      "1           2             16              81        0\n",
      "2           3             17               6        1\n",
      "3           4             18              77        0\n",
      "4           5             19              40        2\n",
      "5           6             20              76        0\n",
      "6           7             21               6        1\n",
      "7           8             22              94        0\n",
      "8           9             23               3        1\n",
      "9          10             24              72        0\n"
     ]
    }
   ],
   "source": [
    "from sklearn.cluster import AgglomerativeClustering\n",
    "\n",
    "\n",
    "model = AgglomerativeClustering(n_clusters=3, metric='euclidean', linkage='ward')\n",
    "df['Cluster'] = model.fit_predict(X)\n",
    "\n",
    "print(df[['CustomerID','Annual Income','Spending Score','Cluster']])"
   ]
  },
  {
   "cell_type": "code",
   "execution_count": 31,
   "id": "31f1fae9-5250-4136-aa90-f5f40c62b729",
   "metadata": {},
   "outputs": [
    {
     "name": "stdout",
     "output_type": "stream",
     "text": [
      "\n",
      "Cluster 0 Summary:\n",
      "       Annual Income  Spending Score\n",
      "count       5.000000        5.000000\n",
      "mean       20.000000       80.000000\n",
      "std         3.162278        8.455767\n",
      "min        16.000000       72.000000\n",
      "25%        18.000000       76.000000\n",
      "50%        20.000000       77.000000\n",
      "75%        22.000000       81.000000\n",
      "max        24.000000       94.000000\n",
      "\n",
      "Cluster 1 Summary:\n",
      "       Annual Income  Spending Score\n",
      "count       3.000000        3.000000\n",
      "mean       20.333333        5.000000\n",
      "std         3.055050        1.732051\n",
      "min        17.000000        3.000000\n",
      "25%        19.000000        4.500000\n",
      "50%        21.000000        6.000000\n",
      "75%        22.000000        6.000000\n",
      "max        23.000000        6.000000\n",
      "\n",
      "Cluster 2 Summary:\n",
      "       Annual Income  Spending Score\n",
      "count       2.000000        2.000000\n",
      "mean       17.000000       39.500000\n",
      "std         2.828427        0.707107\n",
      "min        15.000000       39.000000\n",
      "25%        16.000000       39.250000\n",
      "50%        17.000000       39.500000\n",
      "75%        18.000000       39.750000\n",
      "max        19.000000       40.000000\n"
     ]
    }
   ],
   "source": [
    "for cluster in sorted(df['Cluster'].unique()):\n",
    "    group=df[df['Cluster']==cluster]\n",
    "    print(f\"\\nCluster {cluster} Summary:\")\n",
    "    print(group[['Annual Income','Spending Score']].describe())"
   ]
  },
  {
   "cell_type": "code",
   "execution_count": null,
   "id": "086e8c28-3484-44fe-a8f2-407c3bf7a842",
   "metadata": {},
   "outputs": [],
   "source": []
  }
 ],
 "metadata": {
  "kernelspec": {
   "display_name": "Python [conda env:base] *",
   "language": "python",
   "name": "conda-base-py"
  },
  "language_info": {
   "codemirror_mode": {
    "name": "ipython",
    "version": 3
   },
   "file_extension": ".py",
   "mimetype": "text/x-python",
   "name": "python",
   "nbconvert_exporter": "python",
   "pygments_lexer": "ipython3",
   "version": "3.12.7"
  }
 },
 "nbformat": 4,
 "nbformat_minor": 5
}
