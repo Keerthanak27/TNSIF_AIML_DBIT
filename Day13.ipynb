{
 "cells": [
  {
   "cell_type": "code",
   "execution_count": null,
   "id": "da85db11-5cbb-4738-8162-dfaf43e293fb",
   "metadata": {},
   "outputs": [],
   "source": [
    "#Apriori Association"
   ]
  },
  {
   "cell_type": "code",
   "execution_count": 16,
   "id": "9935b0e6-e800-455a-a349-a733e664fef1",
   "metadata": {},
   "outputs": [],
   "source": [
    "# Step 1: Import libraries\n",
    "import pandas as pd\n",
    "import itertools"
   ]
  },
  {
   "cell_type": "code",
   "execution_count": 18,
   "id": "0ba237a9-de5b-42f9-af3d-a3524e5cf16e",
   "metadata": {},
   "outputs": [
    {
     "name": "stdout",
     "output_type": "stream",
     "text": [
      "Q1 - Transactions (each transaction is a set):\n",
      " T1 = ['Coffee', 'Donut', 'Sandwich']\n",
      " T2 = ['Coffee', 'Donut']\n",
      " T3 = ['Coffee', 'Sandwich']\n",
      " T4 = ['Coffee', 'Muffin']\n",
      " T5 = ['Donut', 'Muffin']\n",
      "\n"
     ]
    }
   ],
   "source": [
    "# Q1: Transactions\n",
    "\n",
    "dataset = [\n",
    "    ['Coffee', 'Donut', 'Sandwich'],\n",
    "    ['Coffee', 'Donut'],\n",
    "    ['Coffee', 'Sandwich'],\n",
    "    ['Coffee', 'Muffin'],\n",
    "    ['Donut', 'Muffin']\n",
    "]\n",
    "transactions = [set(t) for t in dataset]\n",
    "n = len(transactions)\n",
    "print(\"Q1 - Transactions (each transaction is a set):\")\n",
    "for i, t in enumerate(transactions, 1):\n",
    "    print(f\" T{i} = {sorted(list(t))}\")\n",
    "print()"
   ]
  },
  {
   "cell_type": "code",
   "execution_count": 20,
   "id": "269d8e96-1263-4bbc-971b-3a79be90cbd6",
   "metadata": {},
   "outputs": [
    {
     "name": "stdout",
     "output_type": "stream",
     "text": [
      "Q2 - One-hot encoded table (rows=T1..Tn, cols=items):\n",
      "T\\Item    Coffee     Donut    Muffin  Sandwich\n",
      "T1           1         1         0         1\n",
      "T2           1         1         0         0\n",
      "T3           1         0         0         1\n",
      "T4           1         0         1         0\n",
      "T5           0         1         1         0\n",
      "\n"
     ]
    }
   ],
   "source": [
    "# Q2: One-hot encode and show table\n",
    "items = sorted({it for t in dataset for it in t})\n",
    "print(\"Q2 - One-hot encoded table (rows=T1..Tn, cols=items):\")\n",
    "header = [\"T\\\\Item\"] + items\n",
    "rows = []\n",
    "print(\"{:<4}\".format(header[0]) + \"\".join(f\"{it:>10}\" for it in header[1:]))\n",
    "for idx, tr in enumerate(transactions, 1):\n",
    "    row = [(\"1\" if it in tr else \"0\") for it in items]\n",
    "    print(f\"T{idx:<3}\" + \"\".join(f\"{val:>10}\" for val in row))\n",
    "print()\n",
    "\n",
    "def support(itemset):\n",
    "    \"\"\"Return support as fraction for a tuple/list/set itemset\"\"\"\n",
    "    s = set(itemset)\n",
    "    count = sum(1 for tr in transactions if s.issubset(tr))\n",
    "    return count / n"
   ]
  },
  {
   "cell_type": "code",
   "execution_count": 22,
   "id": "da6b93e5-e209-4a91-b6f0-33b952309296",
   "metadata": {},
   "outputs": [
    {
     "name": "stdout",
     "output_type": "stream",
     "text": [
      "Q3 - Support for all non-empty itemsets:\n",
      " ('Coffee',) : support = 0.8000\n",
      " ('Donut',) : support = 0.6000\n",
      " ('Muffin',) : support = 0.4000\n",
      " ('Sandwich',) : support = 0.4000\n",
      " ('Coffee', 'Donut') : support = 0.4000\n",
      " ('Coffee', 'Muffin') : support = 0.2000\n",
      " ('Coffee', 'Sandwich') : support = 0.4000\n",
      " ('Donut', 'Muffin') : support = 0.2000\n",
      " ('Donut', 'Sandwich') : support = 0.2000\n",
      " ('Muffin', 'Sandwich') : support = 0.0000\n",
      " ('Coffee', 'Donut', 'Muffin') : support = 0.0000\n",
      " ('Coffee', 'Donut', 'Sandwich') : support = 0.2000\n",
      " ('Coffee', 'Muffin', 'Sandwich') : support = 0.0000\n",
      " ('Donut', 'Muffin', 'Sandwich') : support = 0.0000\n",
      " ('Coffee', 'Donut', 'Muffin', 'Sandwich') : support = 0.0000\n",
      "\n",
      "Frequent itemsets (support >= 0.4):\n",
      " ('Coffee',) -> support=0.8000\n",
      " ('Donut',) -> support=0.6000\n",
      " ('Muffin',) -> support=0.4000\n",
      " ('Sandwich',) -> support=0.4000\n",
      " ('Coffee', 'Donut') -> support=0.4000\n",
      " ('Coffee', 'Sandwich') -> support=0.4000\n",
      "\n"
     ]
    }
   ],
   "source": [
    "# Q3: Compute support for ALL itemsets and list frequent itemsets\n",
    "print(\"Q3 - Support for all non-empty itemsets:\")\n",
    "all_supports = {}\n",
    "for k in range(1, len(items)+1):\n",
    "    for comb in itertools.combinations(items, k):\n",
    "        sup = support(comb)\n",
    "        all_supports[comb] = sup\n",
    "        print(f\" {comb} : support = {sup:.4f}\")\n",
    "\n",
    "min_support = 0.4\n",
    "frequent_itemsets = [comb for comb, sup in all_supports.items() if sup >= min_support]\n",
    "print()\n",
    "print(f\"Frequent itemsets (support >= {min_support}):\")\n",
    "for comb in sorted(frequent_itemsets, key=lambda x:(len(x), x)):\n",
    "    print(f\" {comb} -> support={all_supports[comb]:.4f}\")\n",
    "print()"
   ]
  },
  {
   "cell_type": "code",
   "execution_count": 24,
   "id": "e3cca741-b48b-473c-880a-7d8ee416c2c8",
   "metadata": {},
   "outputs": [
    {
     "name": "stdout",
     "output_type": "stream",
     "text": [
      "Q4 - All association rules from frequent itemsets (support, confidence, lift):\n",
      " ('Coffee',) -> ('Donut',): support=0.4, conf=0.5, lift=0.8333\n",
      " ('Donut',) -> ('Coffee',): support=0.4, conf=0.6667, lift=0.8333\n",
      " ('Coffee',) -> ('Sandwich',): support=0.4, conf=0.5, lift=1.25\n",
      " ('Sandwich',) -> ('Coffee',): support=0.4, conf=1.0, lift=1.25\n",
      "\n"
     ]
    }
   ],
   "source": [
    "# Q4: Generate ALL possible association rules from frequent itemsets\n",
    "print(\"Q4 - All association rules from frequent itemsets (support, confidence, lift):\")\n",
    "rules = []\n",
    "for itemset in frequent_itemsets:\n",
    "    if len(itemset) < 2:\n",
    "        continue\n",
    "    itemset_support = all_supports[itemset]\n",
    "    # consider all non-empty proper subsets as antecedents\n",
    "    for r in range(1, len(itemset)):\n",
    "        for antecedent in itertools.combinations(itemset, r):\n",
    "            antecedent = tuple(sorted(antecedent))\n",
    "            consequent = tuple(sorted(set(itemset) - set(antecedent)))\n",
    "            ant_sup = all_supports[antecedent]\n",
    "            cons_sup = all_supports[consequent]\n",
    "            conf = itemset_support / ant_sup if ant_sup > 0 else 0\n",
    "            lift = conf / cons_sup if cons_sup > 0 else float('nan')\n",
    "            rule = {\n",
    "                \"antecedent\": antecedent,\n",
    "                \"consequent\": consequent,\n",
    "                \"support\": round(itemset_support, 4),\n",
    "                \"confidence\": round(conf, 4),\n",
    "                \"lift\": round(lift, 4)\n",
    "            }\n",
    "            rules.append(rule)\n",
    "for r in rules:\n",
    "    print(f\" {r['antecedent']} -> {r['consequent']}: support={r['support']}, conf={r['confidence']}, lift={r['lift']}\")\n",
    "print()"
   ]
  },
  {
   "cell_type": "code",
   "execution_count": 26,
   "id": "8b4913ea-a5f7-44df-b89f-ab760f4598e9",
   "metadata": {},
   "outputs": [
    {
     "name": "stdout",
     "output_type": "stream",
     "text": [
      "Q5 - Rules with support>=0.4 and confidence>=0.6:\n",
      " ('Donut',) -> ('Coffee',): support=0.4, conf=0.6667, lift=0.8333\n",
      " ('Sandwich',) -> ('Coffee',): support=0.4, conf=1.0, lift=1.25\n",
      "\n"
     ]
    }
   ],
   "source": [
    "# Q5: Which satisfy support>=0.4 and confidence>=0.6\n",
    "min_confidence = 0.6\n",
    "strong_rules = [r for r in rules if r['support'] >= min_support and r['confidence'] >= min_confidence]\n",
    "print(f\"Q5 - Rules with support>={min_support} and confidence>={min_confidence}:\")\n",
    "if strong_rules:\n",
    "    for r in strong_rules:\n",
    "        print(f\" {r['antecedent']} -> {r['consequent']}: support={r['support']}, conf={r['confidence']}, lift={r['lift']}\")\n",
    "else:\n",
    "    print(\" No rules meet the thresholds.\")\n",
    "print()"
   ]
  },
  {
   "cell_type": "code",
   "execution_count": 28,
   "id": "b0072d38-9460-4e03-908a-54b9de2cad75",
   "metadata": {},
   "outputs": [
    {
     "name": "stdout",
     "output_type": "stream",
     "text": [
      "Q6 - Interpretation of a strong rule:\n",
      " If a customer buys Donut, they are likely to also buy Coffee (confidence=0.6667, lift=0.8333).\n",
      "\n"
     ]
    }
   ],
   "source": [
    "# Q6: Interpret one strong rule (choose the best)\n",
    "if strong_rules:\n",
    "    chosen = strong_rules[0]\n",
    "    a = \", \".join(chosen['antecedent'])\n",
    "    c = \", \".join(chosen['consequent'])\n",
    "    print(\"Q6 - Interpretation of a strong rule:\")\n",
    "    print(f\" If a customer buys {a}, they are likely to also buy {c} (confidence={chosen['confidence']}, lift={chosen['lift']}).\")\n",
    "else:\n",
    "    print(\"Q6 - No strong rules to interpret under given thresholds.\")\n",
    "print()"
   ]
  },
  {
   "cell_type": "code",
   "execution_count": 30,
   "id": "04ba57f3-0ccd-425c-ad8a-2c043f385b20",
   "metadata": {},
   "outputs": [
    {
     "name": "stdout",
     "output_type": "stream",
     "text": [
      "Q7 - Experiment: effect of changing min_support\n",
      " min_support=0.50 => frequent_itemsets=2, possible_rules=0\n",
      " min_support=0.40 => frequent_itemsets=6, possible_rules=4\n",
      " min_support=0.30 => frequent_itemsets=6, possible_rules=4\n",
      " min_support=0.20 => frequent_itemsets=10, possible_rules=16\n",
      "\n"
     ]
    }
   ],
   "source": [
    "# Q7: Experiment with different min_support and show counts\n",
    "print(\"Q7 - Experiment: effect of changing min_support\")\n",
    "for ms in [0.5, 0.4, 0.3, 0.2]:\n",
    "    freq = [comb for comb, s in all_supports.items() if s >= ms]\n",
    "    # count possible rules from freq\n",
    "    rule_count = 0\n",
    "    for itemset in freq:\n",
    "        if len(itemset) < 2:\n",
    "            continue\n",
    "        # each itemset of size k can generate (2^k - 2) directed rules total; but we'll count them explicitly:\n",
    "        for r in range(1, len(itemset)):\n",
    "            for _ in itertools.combinations(itemset, r):\n",
    "                rule_count += 1\n",
    "    print(f\" min_support={ms:.2f} => frequent_itemsets={len(freq)}, possible_rules={rule_count}\")\n",
    "print()"
   ]
  },
  {
   "cell_type": "code",
   "execution_count": 32,
   "id": "faf60d7f-847c-4ffb-a9b5-2f4eaf96f20b",
   "metadata": {},
   "outputs": [
    {
     "name": "stdout",
     "output_type": "stream",
     "text": [
      "Q8 - Why lift > 1 indicates a useful rule:\n",
      " Lift(A->B) = P(B|A) / P(B). If >1 then P(B|A) > P(B): seeing A increases the chance of B => positive association.\n"
     ]
    }
   ],
   "source": [
    "# Q8: Why Lift > 1 indicates a good rule (explanation)\n",
    "print(\"Q8 - Why lift > 1 indicates a useful rule:\")\n",
    "print(\" Lift(A->B) = P(B|A) / P(B). If >1 then P(B|A) > P(B): seeing A increases the chance of B => positive association.\")"
   ]
  },
  {
   "cell_type": "code",
   "execution_count": null,
   "id": "74dcee6e-6772-4f4d-8612-aaf83c0658ad",
   "metadata": {},
   "outputs": [],
   "source": []
  }
 ],
 "metadata": {
  "kernelspec": {
   "display_name": "Python [conda env:base] *",
   "language": "python",
   "name": "conda-base-py"
  },
  "language_info": {
   "codemirror_mode": {
    "name": "ipython",
    "version": 3
   },
   "file_extension": ".py",
   "mimetype": "text/x-python",
   "name": "python",
   "nbconvert_exporter": "python",
   "pygments_lexer": "ipython3",
   "version": "3.12.7"
  }
 },
 "nbformat": 4,
 "nbformat_minor": 5
}
