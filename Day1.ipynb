{
 "cells": [
  {
   "cell_type": "code",
   "execution_count": 6,
   "id": "d1ad7326-230d-48c0-9ce1-a68c79c50f83",
   "metadata": {},
   "outputs": [
    {
     "name": "stdin",
     "output_type": "stream",
     "text": [
      "Enter your 4-digit PIN:  5452\n"
     ]
    },
    {
     "name": "stdout",
     "output_type": "stream",
     "text": [
      "Wrong PIN. Tries left: 2\n",
      "\n"
     ]
    },
    {
     "name": "stdin",
     "output_type": "stream",
     "text": [
      "Enter your 4-digit PIN:  576856\n"
     ]
    },
    {
     "name": "stdout",
     "output_type": "stream",
     "text": [
      "Wrong PIN. Tries left: 1\n",
      "\n"
     ]
    },
    {
     "name": "stdin",
     "output_type": "stream",
     "text": [
      "Enter your 4-digit PIN:  543\n"
     ]
    },
    {
     "name": "stdout",
     "output_type": "stream",
     "text": [
      "Wrong PIN. Tries left: 0\n",
      "\n",
      "Too many wrong attempts. Account locked.\n"
     ]
    }
   ],
   "source": [
    "correct_pin = \"1234\"\n",
    "balance = 1000\n",
    "tries = 3\n",
    "while tries > 0:\n",
    "    pin = input(\"Enter your 4-digit PIN: \")\n",
    "    if pin == correct_pin:\n",
    "        print(\"Access granted!\\n\")\n",
    "        while True:\n",
    "            print(\"1. Check Balance\")\n",
    "            print(\"2. Deposit\")\n",
    "            print(\"3. Withdraw\")\n",
    "            print(\"4. Exit\")\n",
    "            choice = input(\"Choose an option (1-4): \")\n",
    "            if choice == \"1\":\n",
    "                print(f\"Your current balance is: ₹{balance}\\n\")\n",
    "\n",
    "            elif choice == \"2\":\n",
    "                amount = int(input(\"Enter amount to deposit: ₹\"))\n",
    "                balance = balance+amount\n",
    "                print(f\"₹{amount} deposited. New balance: ₹{balance}\\n\")\n",
    "\n",
    "            elif choice == \"3\":\n",
    "                amount = int(input(\"Enter amount to withdraw: ₹\"))\n",
    "                if amount <= balance:\n",
    "                    balance = balance - amount\n",
    "                    print(f\"₹{amount} withdrawn. New balance: ₹{balance}\\n\")\n",
    "                else:\n",
    "                    print(\"Not enough balance!\\n\")\n",
    "\n",
    "            elif choice == \"4\":\n",
    "                print(\"Thank you for using the ATM.!\")\n",
    "                break\n",
    "            else:\n",
    "                print(\"Invalid option. Please choose 1 to 4.\\n\")\n",
    "        break\n",
    "    else:\n",
    "        tries = tries-1\n",
    "        print(f\"Wrong PIN. Tries left: {tries}\\n\")\n",
    "        if tries == 0:\n",
    "            print(\"Too many wrong attempts. Account locked.\")"
   ]
  },
  {
   "cell_type": "code",
   "execution_count": null,
   "id": "e33d8b61-e6e4-4322-bb8e-35edd899c222",
   "metadata": {},
   "outputs": [],
   "source": []
  }
 ],
 "metadata": {
  "kernelspec": {
   "display_name": "Python [conda env:base] *",
   "language": "python",
   "name": "conda-base-py"
  },
  "language_info": {
   "codemirror_mode": {
    "name": "ipython",
    "version": 3
   },
   "file_extension": ".py",
   "mimetype": "text/x-python",
   "name": "python",
   "nbconvert_exporter": "python",
   "pygments_lexer": "ipython3",
   "version": "3.12.7"
  }
 },
 "nbformat": 4,
 "nbformat_minor": 5
}
