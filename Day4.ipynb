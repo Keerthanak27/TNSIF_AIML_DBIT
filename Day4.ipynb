{
 "cells": [
  {
   "cell_type": "code",
   "execution_count": 3,
   "id": "24bd9db2-62e6-4722-ab85-c88579d58aff",
   "metadata": {},
   "outputs": [
    {
     "name": "stdout",
     "output_type": "stream",
     "text": [
      "{'Abc': 4782647852, 'Xyz': 9547812545, 'Pqr': 8412578952, 'Efg': 8513459621}\n"
     ]
    },
    {
     "name": "stdin",
     "output_type": "stream",
     "text": [
      "Enter the name whose number to be modified Abc\n",
      "Enter the new number 9526478456\n"
     ]
    },
    {
     "name": "stdout",
     "output_type": "stream",
     "text": [
      "Modified successfully\n",
      "{'Abc': '9526478456', 'Xyz': 9547812545, 'Pqr': 8412578952, 'Efg': 8513459621}\n"
     ]
    }
   ],
   "source": [
    "phonebook={\"Abc\":4782647852,\"Xyz\":9547812545,\"Pqr\":8412578952,\"Efg\":8513459621}\n",
    "print(phonebook)\n",
    "\n",
    "name = input(\"Enter the name whose number to be modified\")\n",
    "if name in phonebook:\n",
    "    newnumb = input(\"Enter the new number\")\n",
    "    phonebook[name] = newnumb\n",
    "    print(\"Modified successfully\")\n",
    "    print(phonebook)\n",
    "else:\n",
    "    print(name, \"was not found.\")"
   ]
  },
  {
   "cell_type": "code",
   "execution_count": 5,
   "id": "8584d699-a647-4b18-b327-7c2d1f09c7a5",
   "metadata": {},
   "outputs": [
    {
     "name": "stdout",
     "output_type": "stream",
     "text": [
      "{'Aaa': 8459756215, 'Bbb': 9547856321, 'Ccc': 7458963159}\n",
      "{'Aaa': 6894521354, 'Bbb': 9547856321, 'Ccc': 7458963159}\n",
      "{'Aaa': 6894521354, 'Bbb': 9547856321, 'Ccc': 7458963159, 'Ddd': 8452614953}\n"
     ]
    }
   ],
   "source": [
    "phonebook={\"Aaa\":8459756215,\"Bbb\":9547856321,\"Ccc\":7458963159}\n",
    "print(phonebook)\n",
    "phonebook[\"Aaa\"]=6894521354\n",
    "print(phonebook)\n",
    "phonebook.update({\"Ddd\":8452614953})\n",
    "print(phonebook)"
   ]
  },
  {
   "cell_type": "code",
   "execution_count": 7,
   "id": "276efad1-78c4-4263-9be3-11055bab97e3",
   "metadata": {},
   "outputs": [
    {
     "name": "stdout",
     "output_type": "stream",
     "text": [
      "{'AAAA': 7895412654, 'BBBB': 7856214598, 'CCCC': 7458614987, 'DDDD': 9547125786}\n"
     ]
    },
    {
     "name": "stdin",
     "output_type": "stream",
     "text": [
      "enter the name to delete: BBBB\n"
     ]
    },
    {
     "name": "stdout",
     "output_type": "stream",
     "text": [
      "delete successfully\n",
      "{'AAAA': 7895412654, 'CCCC': 7458614987, 'DDDD': 9547125786}\n"
     ]
    }
   ],
   "source": [
    "phonebook={\"AAAA\":7895412654,\"BBBB\":7856214598,\"CCCC\":7458614987,\"DDDD\":9547125786}\n",
    "print(phonebook)\n",
    "name = input(\"enter the name to delete:\")\n",
    "if name in phonebook:\n",
    "    del phonebook[name]\n",
    "    print (\"delete successfully\")\n",
    "    print (phonebook)\n",
    "else:\n",
    "    print (name,\"was not found\")"
   ]
  },
  {
   "cell_type": "code",
   "execution_count": 9,
   "id": "9b1fa2b4-8851-4340-b00d-57cc8c7be6d0",
   "metadata": {},
   "outputs": [
    {
     "name": "stdout",
     "output_type": "stream",
     "text": [
      "<class 'dict'>\n",
      "{}\n",
      "dict_keys([])\n"
     ]
    }
   ],
   "source": [
    "phonebook={\"aaa\":8475125632,\"bbb\":8745963215,\"ccc\":8745632159,\"ddd\":7589632145}\n",
    "print(type(phonebook))\n",
    "\n",
    "#clear\n",
    "phonebook.clear()\n",
    "print(phonebook)\n",
    "\n",
    "print(phonebook.keys())"
   ]
  },
  {
   "cell_type": "code",
   "execution_count": 11,
   "id": "b54363a7-0c58-4e47-a163-76d6db491c1a",
   "metadata": {},
   "outputs": [
    {
     "name": "stdin",
     "output_type": "stream",
     "text": [
      "Enter number of employees:  3\n",
      "\n",
      "Enter name of employee 1:  abc\n",
      "Enter employee number of abc:  8745123695\n",
      "\n",
      "Enter name of employee 2:  def\n",
      "Enter employee number of def:  8475963256\n",
      "\n",
      "Enter name of employee 3:  ghi\n",
      "Enter employee number of ghi:  8542369441\n"
     ]
    },
    {
     "name": "stdout",
     "output_type": "stream",
     "text": [
      "\n",
      "Employee Records:\n",
      "Name: abc, Employee Number: 8745123695\n",
      "Name: def, Employee Number: 8475963256\n",
      "Name: ghi, Employee Number: 8542369441\n"
     ]
    }
   ],
   "source": [
    "n = int(input(\"Enter number of employees: \"))\n",
    "employees = {}\n",
    "for i in range(n):\n",
    "    name = input(f\"\\nEnter name of employee {i+1}: \")\n",
    "    number = input(f\"Enter employee number of {name}: \")\n",
    "    employees[name] = number\n",
    "print(\"\\nEmployee Records:\")\n",
    "for name, number in employees.items():\n",
    "    print(f\"Name: {name}, Employee Number: {number}\")"
   ]
  },
  {
   "cell_type": "code",
   "execution_count": null,
   "id": "ba7a221b-b9ed-4b34-9864-a41085e4a5ef",
   "metadata": {},
   "outputs": [],
   "source": []
  }
 ],
 "metadata": {
  "kernelspec": {
   "display_name": "Python [conda env:base] *",
   "language": "python",
   "name": "conda-base-py"
  },
  "language_info": {
   "codemirror_mode": {
    "name": "ipython",
    "version": 3
   },
   "file_extension": ".py",
   "mimetype": "text/x-python",
   "name": "python",
   "nbconvert_exporter": "python",
   "pygments_lexer": "ipython3",
   "version": "3.12.7"
  }
 },
 "nbformat": 4,
 "nbformat_minor": 5
}
